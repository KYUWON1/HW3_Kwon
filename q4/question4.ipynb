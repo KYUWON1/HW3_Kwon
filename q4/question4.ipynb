{
 "cells": [
  {
   "cell_type": "code",
   "execution_count": 19,
   "id": "98839874",
   "metadata": {},
   "outputs": [
    {
     "name": "stdout",
     "output_type": "stream",
     "text": [
      "Hello, World!\n",
      "input is 0! output is 1 \n",
      "input is 2! output is 2 \n",
      "input is 4! output is 24 \n",
      "input is 6! output is 720 \n",
      "input is 8! output is 40320 \n",
      "input is 10! output is 3628800 \n",
      "input is 12! output is 479001600 \n",
      "input is 14! output is 87178291200 \n"
     ]
    }
   ],
   "source": [
    "def main():\n",
    "    print(\"Hello, World!\")\n",
    "\n",
    "if __name__ == '__main__':\n",
    "    main()\n",
    "    \n",
    "def fac(x):\n",
    "    if(x == 0 or x == 1):\n",
    "        return 1\n",
    "    else:\n",
    "        return x*fac(x-1)\n",
    "        \n",
    "for i in range(0,15,2):\n",
    "    print(\"input is {0:d}! output is {1:d} \".format(i,fac(i)))\n",
    "    i +=2"
   ]
  },
  {
   "cell_type": "code",
   "execution_count": null,
   "id": "c08408f4",
   "metadata": {},
   "outputs": [],
   "source": []
  }
 ],
 "metadata": {
  "kernelspec": {
   "display_name": "Python 3 (ipykernel)",
   "language": "python",
   "name": "python3"
  },
  "language_info": {
   "codemirror_mode": {
    "name": "ipython",
    "version": 3
   },
   "file_extension": ".py",
   "mimetype": "text/x-python",
   "name": "python",
   "nbconvert_exporter": "python",
   "pygments_lexer": "ipython3",
   "version": "3.9.7"
  }
 },
 "nbformat": 4,
 "nbformat_minor": 5
}
